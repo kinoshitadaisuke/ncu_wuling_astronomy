{
  "nbformat": 4,
  "nbformat_minor": 0,
  "metadata": {
    "colab": {
      "provenance": []
    },
    "kernelspec": {
      "name": "python3",
      "display_name": "Python 3"
    },
    "language_info": {
      "name": "python"
    }
  },
  "cells": [
    {
      "cell_type": "markdown",
      "source": [
        "# Astronomy lecture at Wuling High School on 18/Sep/2023\n",
        "\n",
        "## Blackbody radiation\n",
        "\n",
        "## instructor: Kinoshita Daisuke\n"
      ],
      "metadata": {
        "id": "tGKPVaFo6Mez"
      }
    },
    {
      "cell_type": "markdown",
      "source": [
        "## Downloading Python scripts for blackbody radiation calculations"
      ],
      "metadata": {
        "id": "OH67fzr-72Ov"
      }
    },
    {
      "cell_type": "code",
      "source": [
        "# downloading Python scripts\n",
        "\n",
        "!git clone https://github.com/kinoshitadaisuke/ncu_wuling_astronomy.git"
      ],
      "metadata": {
        "id": "rn8fU2mG6ROd"
      },
      "execution_count": null,
      "outputs": []
    },
    {
      "cell_type": "code",
      "source": [
        "# changing directory\n",
        "\n",
        "%cd ncu_wuling_astronomy/20230918"
      ],
      "metadata": {
        "id": "y9GRdN8n6egg"
      },
      "execution_count": null,
      "outputs": []
    },
    {
      "cell_type": "markdown",
      "source": [
        "## Simulating blackbody radiation of T=5800 K star"
      ],
      "metadata": {
        "id": "J4dgw6j467ia"
      }
    },
    {
      "cell_type": "code",
      "source": [
        "# making blackbody spectrum of T=5800 K star\n",
        "\n",
        "!python3.10 blackbody_radiation.py -o star_05800.png 5800"
      ],
      "metadata": {
        "id": "fgkr1a0o7LL9"
      },
      "execution_count": null,
      "outputs": []
    },
    {
      "cell_type": "code",
      "source": [
        "# run this cell to display the plot\n",
        "\n",
        "import IPython.display\n",
        "\n",
        "IPython.display.Image ('star_05800.png')"
      ],
      "metadata": {
        "id": "Jlsh7CRo7T-l"
      },
      "execution_count": null,
      "outputs": []
    },
    {
      "cell_type": "markdown",
      "source": [
        "## Simulating blackbody radiation of T=10000 K star"
      ],
      "metadata": {
        "id": "1DYYVgqI79jE"
      }
    },
    {
      "cell_type": "code",
      "source": [
        "# making blackbody spectrum of T=10000 K star\n",
        "\n",
        "!python3.10 blackbody_radiation.py -o star_10000.png 10000"
      ],
      "metadata": {
        "id": "9pKxaPI779jF"
      },
      "execution_count": null,
      "outputs": []
    },
    {
      "cell_type": "code",
      "source": [
        "# run this cell to display the plot\n",
        "\n",
        "import IPython.display\n",
        "\n",
        "IPython.display.Image ('star_10000.png')"
      ],
      "metadata": {
        "id": "kgzx87uq79jG"
      },
      "execution_count": null,
      "outputs": []
    },
    {
      "cell_type": "markdown",
      "source": [
        "## Simulating blackbody radiation of T=30000 K star"
      ],
      "metadata": {
        "id": "VTvji-oG8Hc1"
      }
    },
    {
      "cell_type": "code",
      "source": [
        "# making blackbody spectrum of T=30000 K star\n",
        "\n",
        "!python3.10 blackbody_radiation.py -o star_30000.png 30000"
      ],
      "metadata": {
        "id": "NB9XiUcu8Hc2"
      },
      "execution_count": null,
      "outputs": []
    },
    {
      "cell_type": "code",
      "source": [
        "# run this cell to display the plot\n",
        "\n",
        "import IPython.display\n",
        "\n",
        "IPython.display.Image ('star_30000.png')"
      ],
      "metadata": {
        "id": "z1gi5hmH8Hc3"
      },
      "execution_count": null,
      "outputs": []
    },
    {
      "cell_type": "markdown",
      "source": [
        "## Simulating blackbody radiation of T=3500 K star"
      ],
      "metadata": {
        "id": "g4UF7yXb8SCu"
      }
    },
    {
      "cell_type": "code",
      "source": [
        "# making blackbody spectrum of T=3500 K star\n",
        "\n",
        "!python3.10 blackbody_radiation.py -o star_03500.png 3500"
      ],
      "metadata": {
        "id": "o647xvGk8SCv"
      },
      "execution_count": null,
      "outputs": []
    },
    {
      "cell_type": "code",
      "source": [
        "# run this cell to display the plot\n",
        "\n",
        "import IPython.display\n",
        "\n",
        "IPython.display.Image ('star_03500.png')"
      ],
      "metadata": {
        "id": "snN2EAdi8SCv"
      },
      "execution_count": null,
      "outputs": []
    },
    {
      "cell_type": "markdown",
      "source": [
        "## Simulating blackbody radiation of T=2000 K star"
      ],
      "metadata": {
        "id": "4gEE4Py78Zbj"
      }
    },
    {
      "cell_type": "code",
      "source": [
        "# making blackbody spectrum of T=2000 K star\n",
        "\n",
        "!python3.10 blackbody_radiation.py -o star_02000.png 2000"
      ],
      "metadata": {
        "id": "qfWx_lSE8Zbl"
      },
      "execution_count": null,
      "outputs": []
    },
    {
      "cell_type": "code",
      "source": [
        "# run this cell to display the plot\n",
        "\n",
        "import IPython.display\n",
        "\n",
        "IPython.display.Image ('star_02000.png')"
      ],
      "metadata": {
        "id": "j6TdyCmP8Zbm"
      },
      "execution_count": null,
      "outputs": []
    },
    {
      "cell_type": "markdown",
      "source": [
        "## Simulating blackbody radiation of T=2000, 3500, 6000, 10000, 20000 K stars"
      ],
      "metadata": {
        "id": "cO5N4h3G8k6z"
      }
    },
    {
      "cell_type": "code",
      "source": [
        "# making blackbody spectrum of T=2000, 3500, 6000, 10000, and 20000 K stars\n",
        "\n",
        "!python3.10 blackbody_radiation.py -o star_all.png 2000 3500 6000 10000 20000"
      ],
      "metadata": {
        "id": "ai1xMQeJ8k60"
      },
      "execution_count": null,
      "outputs": []
    },
    {
      "cell_type": "code",
      "source": [
        "# run this cell to display the plot\n",
        "\n",
        "import IPython.display\n",
        "\n",
        "IPython.display.Image ('star_all.png')"
      ],
      "metadata": {
        "id": "R7PgvFQg8k62"
      },
      "execution_count": null,
      "outputs": []
    },
    {
      "cell_type": "markdown",
      "source": [
        "## Simulating blackbody radiation of T=3 K cosmic microwave background"
      ],
      "metadata": {
        "id": "-6saF_QS9Zu3"
      }
    },
    {
      "cell_type": "code",
      "source": [
        "# making blackbody spectrum of T=3 K cosmic microwave background\n",
        "\n",
        "!python3.10 blackbody_planck.py -o bb_nu_3.png 3"
      ],
      "metadata": {
        "id": "U5AYVVgd9Zu5"
      },
      "execution_count": null,
      "outputs": []
    },
    {
      "cell_type": "code",
      "source": [
        "# run this cell to display the plot\n",
        "\n",
        "import IPython.display\n",
        "\n",
        "IPython.display.Image ('bb_nu_3.png')"
      ],
      "metadata": {
        "id": "zstaPmqe9Zu7"
      },
      "execution_count": null,
      "outputs": []
    },
    {
      "cell_type": "markdown",
      "source": [
        "## Simulating blackbody radiation of T=30 K molecular cloud"
      ],
      "metadata": {
        "id": "rkvCEmhz-GH2"
      }
    },
    {
      "cell_type": "code",
      "source": [
        "# making blackbody spectrum of T=30 K molecular cloud\n",
        "\n",
        "!python3.10 blackbody_planck.py -o bb_nu_30.png 30"
      ],
      "metadata": {
        "id": "B-xXf-4L-GH4"
      },
      "execution_count": null,
      "outputs": []
    },
    {
      "cell_type": "code",
      "source": [
        "# run this cell to display the plot\n",
        "\n",
        "import IPython.display\n",
        "\n",
        "IPython.display.Image ('bb_nu_30.png')"
      ],
      "metadata": {
        "id": "xOpEGFwc-GH6"
      },
      "execution_count": null,
      "outputs": []
    },
    {
      "cell_type": "markdown",
      "source": [
        "## Simulating blackbody radiation of T=300 K asteroid orbiting around the Earth"
      ],
      "metadata": {
        "id": "8ngFTeji-TN_"
      }
    },
    {
      "cell_type": "code",
      "source": [
        "# making blackbody spectrum of T=300 K asteroid orbiting around the Earth\n",
        "\n",
        "!python3.10 blackbody_planck.py -o bb_nu_300.png 300"
      ],
      "metadata": {
        "id": "vNer27Ax-TOB"
      },
      "execution_count": null,
      "outputs": []
    },
    {
      "cell_type": "code",
      "source": [
        "# run this cell to display the plot\n",
        "\n",
        "import IPython.display\n",
        "\n",
        "IPython.display.Image ('bb_nu_300.png')"
      ],
      "metadata": {
        "id": "Jh0xKFK5-TOD"
      },
      "execution_count": null,
      "outputs": []
    },
    {
      "cell_type": "markdown",
      "source": [
        "## Simulating blackbody radiation of T=100000 K white dwarf"
      ],
      "metadata": {
        "id": "iYKZMVOb-nCv"
      }
    },
    {
      "cell_type": "code",
      "source": [
        "# making blackbody spectrum of T=100000 K white dwarf\n",
        "\n",
        "!python3.10 blackbody_planck.py -o bb_nu_100000.png 100000"
      ],
      "metadata": {
        "id": "k-nJkOJ3-nCw"
      },
      "execution_count": null,
      "outputs": []
    },
    {
      "cell_type": "code",
      "source": [
        "# run this cell to display the plot\n",
        "\n",
        "import IPython.display\n",
        "\n",
        "IPython.display.Image ('bb_nu_100000.png')"
      ],
      "metadata": {
        "id": "-Jgeq6Ju-nCx"
      },
      "execution_count": null,
      "outputs": []
    },
    {
      "cell_type": "markdown",
      "source": [
        "## Simulating blackbody radiation of T=1000000 K hot plasma"
      ],
      "metadata": {
        "id": "KrMrGGCr-7lB"
      }
    },
    {
      "cell_type": "code",
      "source": [
        "# making blackbody spectrum of T=1000000 K hot plasma\n",
        "\n",
        "!python3.10 blackbody_planck.py -o bb_nu_1000000.png 1000000"
      ],
      "metadata": {
        "id": "WF59g6Ko-7lC"
      },
      "execution_count": null,
      "outputs": []
    },
    {
      "cell_type": "code",
      "source": [
        "# run this cell to display the plot\n",
        "\n",
        "import IPython.display\n",
        "\n",
        "IPython.display.Image ('bb_nu_1000000.png')"
      ],
      "metadata": {
        "id": "iXT41Ees-7lF"
      },
      "execution_count": null,
      "outputs": []
    },
    {
      "cell_type": "markdown",
      "source": [
        "## Simulating blackbody radiation of different temperature objects"
      ],
      "metadata": {
        "id": "CNjcSvj5_Tiv"
      }
    },
    {
      "cell_type": "code",
      "source": [
        "# making blackbody spectrum of different temperature objects\n",
        "\n",
        "!python3.10 blackbody_planck.py -o bb_nu_all.png 3 30 300 6000 100000 1000000"
      ],
      "metadata": {
        "id": "f1ufFNDP_Tiy"
      },
      "execution_count": null,
      "outputs": []
    },
    {
      "cell_type": "code",
      "source": [
        "# run this cell to display the plot\n",
        "\n",
        "import IPython.display\n",
        "\n",
        "IPython.display.Image ('bb_nu_all.png')"
      ],
      "metadata": {
        "id": "TUaN8Zeb_Ti1"
      },
      "execution_count": null,
      "outputs": []
    },
    {
      "cell_type": "markdown",
      "source": [
        "# End of this notebook"
      ],
      "metadata": {
        "id": "kgSXH82p_xB9"
      }
    }
  ]
}