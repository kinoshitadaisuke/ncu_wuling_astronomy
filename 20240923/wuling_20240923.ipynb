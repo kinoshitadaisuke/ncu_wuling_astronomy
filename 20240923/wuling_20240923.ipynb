{
  "nbformat": 4,
  "nbformat_minor": 0,
  "metadata": {
    "colab": {
      "provenance": []
    },
    "kernelspec": {
      "name": "python3",
      "display_name": "Python 3"
    },
    "language_info": {
      "name": "python"
    }
  },
  "cells": [
    {
      "cell_type": "markdown",
      "source": [
        "# Lecture at Wuling High School on 23/Sep/2024\n",
        "\n",
        "## instructor: Kinoshita Daisuke\n",
        "\n",
        "## GitHub repository\n",
        "\n",
        "- https://github.com/kinoshitadaisuke/ncu_wuling_astronomy"
      ],
      "metadata": {
        "id": "fBPwTr3JGWj3"
      }
    },
    {
      "cell_type": "markdown",
      "source": [
        "# Downloading Python scripts\n",
        "\n"
      ],
      "metadata": {
        "id": "RoD7emgnGrbO"
      }
    },
    {
      "cell_type": "code",
      "source": [
        "# Run this cell to download a set of Python scripts.\n",
        "\n",
        "!git clone https://github.com/kinoshitadaisuke/ncu_wuling_astronomy.git"
      ],
      "metadata": {
        "id": "eTzW08DMGdB2"
      },
      "execution_count": null,
      "outputs": []
    },
    {
      "cell_type": "code",
      "source": [
        "# Run this cell to move to the directory for this class.\n",
        "\n",
        "%cd ncu_wuling_astronomy/20240923"
      ],
      "metadata": {
        "id": "gRG6L0IFG9bw"
      },
      "execution_count": null,
      "outputs": []
    },
    {
      "cell_type": "code",
      "source": [
        "!ls"
      ],
      "metadata": {
        "id": "5JzMLy4aHFz9"
      },
      "execution_count": null,
      "outputs": []
    },
    {
      "cell_type": "markdown",
      "source": [
        "# Maxwell-Boltzmann velocity distribution for nitrogen molecules at T=300 K"
      ],
      "metadata": {
        "id": "3Hj6VdC_HrTy"
      }
    },
    {
      "cell_type": "code",
      "source": [
        "# Run this cell to make a plot of Maxwell-Boltzmann velocity distribution for nitrogen molecules at T=300 K.\n",
        "\n",
        "!python3 mb_velocity_1.py -a 0 -b 3000 -m 28 -n \"Nitrogen molecules\" -o n2.png -r 100 -t 300"
      ],
      "metadata": {
        "id": "iIlxynPsHSlu"
      },
      "execution_count": null,
      "outputs": []
    },
    {
      "cell_type": "code",
      "source": [
        "# Run this cell to display PNG file.\n",
        "\n",
        "import IPython.display\n",
        "\n",
        "IPython.display.Image ('n2.png')"
      ],
      "metadata": {
        "id": "DXk4KOmnHkzZ"
      },
      "execution_count": null,
      "outputs": []
    },
    {
      "cell_type": "markdown",
      "source": [
        "# Maxwell-Boltzmann velocity distribution for oxygen molecules at T=300 K"
      ],
      "metadata": {
        "id": "cJzsEVsvItIr"
      }
    },
    {
      "cell_type": "code",
      "source": [
        "# Run this cell to make a plot of Maxwell-Boltzmann velocity distribution for nitrogen molecules at T=300 K.\n",
        "\n",
        "!python3 mb_velocity_1.py -a 0 -b 3000 -m 32 -n \"Oxygen molecules\" -o o2.png -r 100 -t 300"
      ],
      "metadata": {
        "id": "WcsyI36aItIs"
      },
      "execution_count": null,
      "outputs": []
    },
    {
      "cell_type": "code",
      "source": [
        "# Run this cell to display PNG file.\n",
        "\n",
        "import IPython.display\n",
        "\n",
        "IPython.display.Image ('o2.png')"
      ],
      "metadata": {
        "id": "GlnRZfloItIt"
      },
      "execution_count": null,
      "outputs": []
    },
    {
      "cell_type": "markdown",
      "source": [
        "# Maxwell-Boltzmann velocity distribution for hydrogen molecules at T=300 K"
      ],
      "metadata": {
        "id": "0ohxpd1DJCxT"
      }
    },
    {
      "cell_type": "code",
      "source": [
        "# Run this cell to make a plot of Maxwell-Boltzmann velocity distribution for nitrogen molecules at T=300 K.\n",
        "\n",
        "!python3 mb_velocity_1.py -a 0 -b 10000 -m 2 -n \"Hydrogen molecules\" -o h2.png -r 100 -t 300"
      ],
      "metadata": {
        "id": "oFctSQW4JCxU"
      },
      "execution_count": null,
      "outputs": []
    },
    {
      "cell_type": "code",
      "source": [
        "# Run this cell to display PNG file.\n",
        "\n",
        "import IPython.display\n",
        "\n",
        "IPython.display.Image ('h2.png')"
      ],
      "metadata": {
        "id": "DQhK5q-ZJCxV"
      },
      "execution_count": null,
      "outputs": []
    },
    {
      "cell_type": "markdown",
      "source": [
        "# Maxwell-Boltzmann velocity distribution for N2, O2, Ar, CO2, and H2 at T=300 K"
      ],
      "metadata": {
        "id": "09uuXkGeJWq8"
      }
    },
    {
      "cell_type": "code",
      "source": [
        "# Run this cell to make a plot of Maxwell-Boltzmann velocity distribution for N2, O2, Ar, CO2, and H2 at T=300 K.\n",
        "\n",
        "!python3 mb_velocity_2.py"
      ],
      "metadata": {
        "id": "r5STZq_XIaVC"
      },
      "execution_count": null,
      "outputs": []
    },
    {
      "cell_type": "code",
      "source": [
        "# Run this cell to display PNG file.\n",
        "\n",
        "import IPython.display\n",
        "\n",
        "IPython.display.Image ('mb_velocity_2.png')"
      ],
      "metadata": {
        "id": "geL3H9_mJrWa"
      },
      "execution_count": null,
      "outputs": []
    },
    {
      "cell_type": "markdown",
      "source": [
        "# Integration of Maxwell-Boltzmann velocity distribution"
      ],
      "metadata": {
        "id": "xna3B4IIJ0Gs"
      }
    },
    {
      "cell_type": "code",
      "source": [
        "# Run this cell to integrate Maxwell-Boltzmann velocisyt distribution from 6 times of root-mean-square velocity to infinity.\n",
        "\n",
        "!python3 mb_velocity_3.py"
      ],
      "metadata": {
        "id": "B_X4thepJmtK"
      },
      "execution_count": null,
      "outputs": []
    },
    {
      "cell_type": "markdown",
      "source": [
        "# End of this notebook"
      ],
      "metadata": {
        "id": "mpw7WFjEKXEt"
      }
    },
    {
      "cell_type": "code",
      "source": [],
      "metadata": {
        "id": "6fHFZpbQKE5Y"
      },
      "execution_count": null,
      "outputs": []
    }
  ]
}