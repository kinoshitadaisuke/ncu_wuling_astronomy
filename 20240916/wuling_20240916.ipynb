{
  "nbformat": 4,
  "nbformat_minor": 0,
  "metadata": {
    "colab": {
      "provenance": []
    },
    "kernelspec": {
      "name": "python3",
      "display_name": "Python 3"
    },
    "language_info": {
      "name": "python"
    }
  },
  "cells": [
    {
      "cell_type": "markdown",
      "source": [
        "# Astronomy lecture at Wuling High School on 16/Sep/2024\n",
        "\n",
        "## Blackbody radiation\n",
        "\n",
        "## instructor: Kinoshita Daisuke\n",
        "\n",
        "## GitHub repository: https://github.com/kinoshitadaisuke/ncu_wuling_astronomy\n"
      ],
      "metadata": {
        "id": "tGKPVaFo6Mez"
      }
    },
    {
      "cell_type": "markdown",
      "source": [
        "# 0. Installation of Python interpreter"
      ],
      "metadata": {
        "id": "T_y7rto6Q5P8"
      }
    },
    {
      "cell_type": "code",
      "source": [
        "# Run this cell to install Python 3.12\n",
        "\n",
        "!apt update\n",
        "!apt upgrade\n",
        "!apt install python3.12 python3.12-dev python3.12-distutils libpython3.12-dev\n",
        "!update-alternatives --install /usr/bin/python3 python3 /usr/bin/python3.12 1\n",
        "!wget https://bootstrap.pypa.io/get-pip.py\n",
        "!python3.12 get-pip.py"
      ],
      "metadata": {
        "id": "MzmVLkC8QyGZ"
      },
      "execution_count": null,
      "outputs": []
    },
    {
      "cell_type": "code",
      "source": [
        "# Run this cell to check the version of Python interpreter and pip command\n",
        "\n",
        "!python --version\n",
        "!pip --version"
      ],
      "metadata": {
        "id": "Vx-JYTyp3NMU"
      },
      "execution_count": null,
      "outputs": []
    },
    {
      "cell_type": "code",
      "source": [
        "# Run this cell to install necessary external packages.\n",
        "\n",
        "!pip install numpy scipy matplotlib"
      ],
      "metadata": {
        "id": "8qK1nTnv929i"
      },
      "execution_count": null,
      "outputs": []
    },
    {
      "cell_type": "markdown",
      "source": [
        "## 1. Downloading Python scripts for blackbody radiation calculations"
      ],
      "metadata": {
        "id": "OH67fzr-72Ov"
      }
    },
    {
      "cell_type": "code",
      "source": [
        "# downloading Python scripts\n",
        "\n",
        "!git clone https://github.com/kinoshitadaisuke/ncu_wuling_astronomy.git"
      ],
      "metadata": {
        "id": "rn8fU2mG6ROd"
      },
      "execution_count": null,
      "outputs": []
    },
    {
      "cell_type": "code",
      "source": [
        "# changing directory\n",
        "\n",
        "%cd ncu_wuling_astronomy/20240916"
      ],
      "metadata": {
        "id": "y9GRdN8n6egg"
      },
      "execution_count": null,
      "outputs": []
    },
    {
      "cell_type": "code",
      "source": [
        "# show the list of files\n",
        "\n",
        "!ls -lF"
      ],
      "metadata": {
        "id": "G3Uq47ZiZxAP"
      },
      "execution_count": null,
      "outputs": []
    },
    {
      "cell_type": "markdown",
      "source": [
        "## 3. Simulating blackbody radiation of T=5800 K star"
      ],
      "metadata": {
        "id": "J4dgw6j467ia"
      }
    },
    {
      "cell_type": "code",
      "source": [
        "# making blackbody spectrum of T=5800 K star\n",
        "\n",
        "!python3.12 blackbody_lambda.py -o star_05800.png 5800"
      ],
      "metadata": {
        "id": "fgkr1a0o7LL9"
      },
      "execution_count": null,
      "outputs": []
    },
    {
      "cell_type": "code",
      "source": [
        "# run this cell to display the plot\n",
        "\n",
        "import IPython.display\n",
        "\n",
        "IPython.display.Image ('star_05800.png')"
      ],
      "metadata": {
        "id": "Jlsh7CRo7T-l"
      },
      "execution_count": null,
      "outputs": []
    },
    {
      "cell_type": "markdown",
      "source": [
        "## 4. Simulating blackbody radiation of T=10000 K star"
      ],
      "metadata": {
        "id": "1DYYVgqI79jE"
      }
    },
    {
      "cell_type": "code",
      "source": [
        "# making blackbody spectrum of T=10000 K star\n",
        "\n",
        "!python3.12 blackbody_lambda.py -o star_10000.png 10000"
      ],
      "metadata": {
        "id": "9pKxaPI779jF"
      },
      "execution_count": null,
      "outputs": []
    },
    {
      "cell_type": "code",
      "source": [
        "# run this cell to display the plot\n",
        "\n",
        "import IPython.display\n",
        "\n",
        "IPython.display.Image ('star_10000.png')"
      ],
      "metadata": {
        "id": "kgzx87uq79jG"
      },
      "execution_count": null,
      "outputs": []
    },
    {
      "cell_type": "markdown",
      "source": [
        "## 5. Simulating blackbody radiation of T=30000 K star"
      ],
      "metadata": {
        "id": "VTvji-oG8Hc1"
      }
    },
    {
      "cell_type": "code",
      "source": [
        "# making blackbody spectrum of T=30000 K star\n",
        "\n",
        "!python3.12 blackbody_lambda.py -o star_30000.png 30000"
      ],
      "metadata": {
        "id": "NB9XiUcu8Hc2"
      },
      "execution_count": null,
      "outputs": []
    },
    {
      "cell_type": "code",
      "source": [
        "# run this cell to display the plot\n",
        "\n",
        "import IPython.display\n",
        "\n",
        "IPython.display.Image ('star_30000.png')"
      ],
      "metadata": {
        "id": "z1gi5hmH8Hc3"
      },
      "execution_count": null,
      "outputs": []
    },
    {
      "cell_type": "markdown",
      "source": [
        "## 6. Simulating blackbody radiation of T=3500 K star"
      ],
      "metadata": {
        "id": "g4UF7yXb8SCu"
      }
    },
    {
      "cell_type": "code",
      "source": [
        "# making blackbody spectrum of T=3500 K star\n",
        "\n",
        "!python3.12 blackbody_lambda.py -o star_03500.png 3500"
      ],
      "metadata": {
        "id": "o647xvGk8SCv"
      },
      "execution_count": null,
      "outputs": []
    },
    {
      "cell_type": "code",
      "source": [
        "# run this cell to display the plot\n",
        "\n",
        "import IPython.display\n",
        "\n",
        "IPython.display.Image ('star_03500.png')"
      ],
      "metadata": {
        "id": "snN2EAdi8SCv"
      },
      "execution_count": null,
      "outputs": []
    },
    {
      "cell_type": "markdown",
      "source": [
        "## 7. Simulating blackbody radiation of T=2000 K star"
      ],
      "metadata": {
        "id": "4gEE4Py78Zbj"
      }
    },
    {
      "cell_type": "code",
      "source": [
        "# making blackbody spectrum of T=2000 K star\n",
        "\n",
        "!python3.12 blackbody_lambda.py -o star_02000.png 2000"
      ],
      "metadata": {
        "id": "qfWx_lSE8Zbl"
      },
      "execution_count": null,
      "outputs": []
    },
    {
      "cell_type": "code",
      "source": [
        "# run this cell to display the plot\n",
        "\n",
        "import IPython.display\n",
        "\n",
        "IPython.display.Image ('star_02000.png')"
      ],
      "metadata": {
        "id": "j6TdyCmP8Zbm"
      },
      "execution_count": null,
      "outputs": []
    },
    {
      "cell_type": "markdown",
      "source": [
        "## 8. Simulating blackbody radiation of T=2000, 3500, 6000, 10000, 20000 K stars"
      ],
      "metadata": {
        "id": "cO5N4h3G8k6z"
      }
    },
    {
      "cell_type": "code",
      "source": [
        "# making blackbody spectrum of T=2000, 3500, 6000, 10000, and 20000 K stars\n",
        "\n",
        "!python3.12 blackbody_lambda.py -o star_all.png 2000 3500 6000 10000 20000"
      ],
      "metadata": {
        "id": "ai1xMQeJ8k60"
      },
      "execution_count": null,
      "outputs": []
    },
    {
      "cell_type": "code",
      "source": [
        "# run this cell to display the plot\n",
        "\n",
        "import IPython.display\n",
        "\n",
        "IPython.display.Image ('star_all.png')"
      ],
      "metadata": {
        "id": "R7PgvFQg8k62"
      },
      "execution_count": null,
      "outputs": []
    },
    {
      "cell_type": "markdown",
      "source": [
        "## 9. Simulating blackbody radiation of T=3 K cosmic microwave background"
      ],
      "metadata": {
        "id": "-6saF_QS9Zu3"
      }
    },
    {
      "cell_type": "code",
      "source": [
        "# making blackbody spectrum of T=3 K cosmic microwave background\n",
        "\n",
        "!python3.12 blackbody_nu.py -o bb_nu_3.png 3"
      ],
      "metadata": {
        "id": "U5AYVVgd9Zu5"
      },
      "execution_count": null,
      "outputs": []
    },
    {
      "cell_type": "code",
      "source": [
        "# run this cell to display the plot\n",
        "\n",
        "import IPython.display\n",
        "\n",
        "IPython.display.Image ('bb_nu_3.png')"
      ],
      "metadata": {
        "id": "zstaPmqe9Zu7"
      },
      "execution_count": null,
      "outputs": []
    },
    {
      "cell_type": "markdown",
      "source": [
        "## 10. Simulating blackbody radiation of T=30 K molecular cloud"
      ],
      "metadata": {
        "id": "rkvCEmhz-GH2"
      }
    },
    {
      "cell_type": "code",
      "source": [
        "# making blackbody spectrum of T=30 K molecular cloud\n",
        "\n",
        "!python3.12 blackbody_nu.py -o bb_nu_30.png 30"
      ],
      "metadata": {
        "id": "B-xXf-4L-GH4"
      },
      "execution_count": null,
      "outputs": []
    },
    {
      "cell_type": "code",
      "source": [
        "# run this cell to display the plot\n",
        "\n",
        "import IPython.display\n",
        "\n",
        "IPython.display.Image ('bb_nu_30.png')"
      ],
      "metadata": {
        "id": "xOpEGFwc-GH6"
      },
      "execution_count": null,
      "outputs": []
    },
    {
      "cell_type": "markdown",
      "source": [
        "## 11. Simulating blackbody radiation of T=300 K asteroid orbiting around the Earth"
      ],
      "metadata": {
        "id": "8ngFTeji-TN_"
      }
    },
    {
      "cell_type": "code",
      "source": [
        "# making blackbody spectrum of T=300 K asteroid orbiting around the Earth\n",
        "\n",
        "!python3.12 blackbody_nu.py -o bb_nu_300.png 300"
      ],
      "metadata": {
        "id": "vNer27Ax-TOB"
      },
      "execution_count": null,
      "outputs": []
    },
    {
      "cell_type": "code",
      "source": [
        "# run this cell to display the plot\n",
        "\n",
        "import IPython.display\n",
        "\n",
        "IPython.display.Image ('bb_nu_300.png')"
      ],
      "metadata": {
        "id": "Jh0xKFK5-TOD"
      },
      "execution_count": null,
      "outputs": []
    },
    {
      "cell_type": "markdown",
      "source": [
        "## 12. Simulating blackbody radiation of T=100000 K white dwarf"
      ],
      "metadata": {
        "id": "iYKZMVOb-nCv"
      }
    },
    {
      "cell_type": "code",
      "source": [
        "# making blackbody spectrum of T=100000 K white dwarf\n",
        "\n",
        "!python3.12 blackbody_nu.py -o bb_nu_100000.png 100000"
      ],
      "metadata": {
        "id": "k-nJkOJ3-nCw"
      },
      "execution_count": null,
      "outputs": []
    },
    {
      "cell_type": "code",
      "source": [
        "# run this cell to display the plot\n",
        "\n",
        "import IPython.display\n",
        "\n",
        "IPython.display.Image ('bb_nu_100000.png')"
      ],
      "metadata": {
        "id": "-Jgeq6Ju-nCx"
      },
      "execution_count": null,
      "outputs": []
    },
    {
      "cell_type": "markdown",
      "source": [
        "## 13. Simulating blackbody radiation of T=1000000 K hot plasma"
      ],
      "metadata": {
        "id": "KrMrGGCr-7lB"
      }
    },
    {
      "cell_type": "code",
      "source": [
        "# making blackbody spectrum of T=1000000 K hot plasma\n",
        "\n",
        "!python3.12 blackbody_nu.py -o bb_nu_1000000.png 1000000"
      ],
      "metadata": {
        "id": "WF59g6Ko-7lC"
      },
      "execution_count": null,
      "outputs": []
    },
    {
      "cell_type": "code",
      "source": [
        "# run this cell to display the plot\n",
        "\n",
        "import IPython.display\n",
        "\n",
        "IPython.display.Image ('bb_nu_1000000.png')"
      ],
      "metadata": {
        "id": "iXT41Ees-7lF"
      },
      "execution_count": null,
      "outputs": []
    },
    {
      "cell_type": "markdown",
      "source": [
        "## 14. Simulating blackbody radiation of different temperature objects"
      ],
      "metadata": {
        "id": "CNjcSvj5_Tiv"
      }
    },
    {
      "cell_type": "code",
      "source": [
        "# making blackbody spectrum of different temperature objects\n",
        "\n",
        "!python3.12 blackbody_nu.py -o bb_nu_all.png 3 30 300 6000 100000 1000000"
      ],
      "metadata": {
        "id": "f1ufFNDP_Tiy"
      },
      "execution_count": null,
      "outputs": []
    },
    {
      "cell_type": "code",
      "source": [
        "# run this cell to display the plot\n",
        "\n",
        "import IPython.display\n",
        "\n",
        "IPython.display.Image ('bb_nu_all.png')"
      ],
      "metadata": {
        "id": "TUaN8Zeb_Ti1"
      },
      "execution_count": null,
      "outputs": []
    },
    {
      "cell_type": "markdown",
      "source": [
        "# End of this notebook"
      ],
      "metadata": {
        "id": "kgSXH82p_xB9"
      }
    }
  ]
}