{
 "cells": [
  {
   "cell_type": "markdown",
   "id": "f012cbee-edd4-442e-b556-5d5c74188213",
   "metadata": {},
   "source": [
    "# Astronomy lecture at Wuling High School by Institute of Astronomy, NCU #\n",
    "\n",
    "- semester: first semester, academic year 2022\n",
    "- date/time: from 10:00 to 12:00 on 26/Sep/2022\n",
    "- instructor: Kinoshita Daisuke\n",
    "- GitHub repository: https://github.com/kinoshitadaisuke/ncu_wuling_astronomy\n",
    "- Binder web page: https://mybinder.org/v2/gh/kinoshitadaisuke/ncu_wuling_astronomy/HEAD"
   ]
  },
  {
   "cell_type": "markdown",
   "id": "014d32bb-f7d7-4a17-a47c-b0161d90a12a",
   "metadata": {},
   "source": [
    "# Lecture on 26/Sep/2022 #\n",
    "\n",
    "- Moon\n",
    "- Mercury\n",
    "- Earth"
   ]
  },
  {
   "cell_type": "code",
   "execution_count": null,
   "id": "8d18e9d6-c7d4-403d-8dcf-87eb6eae6863",
   "metadata": {},
   "outputs": [],
   "source": []
  }
 ],
 "metadata": {
  "kernelspec": {
   "display_name": "Python 3 (ipykernel)",
   "language": "python",
   "name": "python3"
  },
  "language_info": {
   "codemirror_mode": {
    "name": "ipython",
    "version": 3
   },
   "file_extension": ".py",
   "mimetype": "text/x-python",
   "name": "python",
   "nbconvert_exporter": "python",
   "pygments_lexer": "ipython3",
   "version": "3.9.13"
  }
 },
 "nbformat": 4,
 "nbformat_minor": 5
}
